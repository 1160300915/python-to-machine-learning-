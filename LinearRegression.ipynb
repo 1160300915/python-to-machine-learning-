{
 "cells": [
  {
   "cell_type": "code",
   "execution_count": 8,
   "metadata": {
    "collapsed": true
   },
   "outputs": [],
   "source": [
    "import numpy as np\n",
    "from sklearn.cross_validation import train_test_split"
   ]
  },
  {
   "cell_type": "code",
   "execution_count": 9,
   "metadata": {
    "collapsed": true
   },
   "outputs": [],
   "source": [
    "%matplotlib inline\n",
    "import matplotlib.pyplot as plt"
   ]
  },
  {
   "cell_type": "markdown",
   "metadata": {},
   "source": [
    "我们使用numpy自己构建一个数据集"
   ]
  },
  {
   "cell_type": "code",
   "execution_count": 10,
   "metadata": {
    "collapsed": true
   },
   "outputs": [],
   "source": [
    "np.random.seed(250)\n",
    "X = np.random.rand(100, 1)\n",
    "y = 10 * X + 10 + np.random.randn(100, 1)"
   ]
  },
  {
   "cell_type": "markdown",
   "metadata": {},
   "source": [
    "首先看一下我们生成的数据集的样子"
   ]
  },
  {
   "cell_type": "code",
   "execution_count": 12,
   "metadata": {
    "collapsed": false
   },
   "outputs": [
    {
     "data": {
      "text/plain": [
       "<matplotlib.text.Text at 0x6427e80>"
      ]
     },
     "execution_count": 12,
     "metadata": {},
     "output_type": "execute_result"
    },
    {
     "data": {
      "image/png": "[encoded data removed]",
      "text/plain": [
       "<matplotlib.figure.Figure at 0x8e53d30>"
      ]
     },
     "metadata": {},
     "output_type": "display_data"
    }
   ],
   "source": [
    "plt.scatter(X,y)\n",
    "plt.title(\"dataset\")\n",
    "plt.xlabel(\"X\")\n",
    "plt.ylabel(\"y\")"
   ]
  },
  {
   "cell_type": "markdown",
   "metadata": {},
   "source": [
    "接下来我们将数据划分为训练集和验证集。"
   ]
  },
  {
   "cell_type": "code",
   "execution_count": 13,
   "metadata": {
    "collapsed": true
   },
   "outputs": [],
   "source": [
    "X_train, X_test, y_train, y_test = train_test_split(X, y, test_size=0.3, random_state=0)"
   ]
  },
  {
   "cell_type": "markdown",
   "metadata": {},
   "source": [
    "接下来我们要定义线性回归的模型。这里我写一个类来实现这个模型"
   ]
  },
  {
   "cell_type": "code",
   "execution_count": 31,
   "metadata": {
    "collapsed": false
   },
   "outputs": [],
   "source": [
    "class LinearRegression:\n",
    "    \n",
    "    def __init__(self):\n",
    "        pass\n",
    "    \n",
    "    def fit(self, X, y, lr=0.01, n_iters=100):\n",
    "        \"\"\"\n",
    "        use gradient descent to train the linear model\n",
    "        \"\"\"\n",
    "        n_samples, n_features = X.shape\n",
    "        self.weight = np.ones(shape=(n_features, 1))\n",
    "        self.bias = 0\n",
    "        costs = []\n",
    "        \n",
    "        for i in range(n_iters):\n",
    "            y_pre = np.dot(X, self.weight) + self.bias\n",
    "            cost = (1/n_samples) * np.sum((y_pre - y)**2)\n",
    "            costs.append(cost)\n",
    "            \n",
    "            if i % 100 ==0:\n",
    "                print(\"Cost at iteration {i}:{cost}\")\n",
    "                \n",
    "            #compute the gradients\n",
    "            dj_w = (2/n_samples)*np.dot(X.T, (y_pre - y))\n",
    "            dj_b = (2/n_samples)*np.sum((y_pre-y))\n",
    "            \n",
    "            #update the parameters\n",
    "            self.weight = self.weight - lr * dj_w\n",
    "            self.bias = self.bias - lr * dj_b\n",
    "    \n",
    "        return self.weight, self.bias, costs\n",
    "    \n",
    "    def predict(self, X):\n",
    "        return np.dot(X, self.weight) + self.bias"
   ]
  },
  {
   "cell_type": "markdown",
   "metadata": {},
   "source": [
    "开始训练并将误差画在图上"
   ]
  },
  {
   "cell_type": "code",
   "execution_count": 32,
   "metadata": {
    "collapsed": false,
    "scrolled": true
   },
   "outputs": [
    {
     "name": "stdout",
     "output_type": "stream",
     "text": [
      "Cost at iteration {i}:{cost}\n",
      "Cost at iteration {i}:{cost}\n",
      "Cost at iteration {i}:{cost}\n",
      "Cost at iteration {i}:{cost}\n",
      "Cost at iteration {i}:{cost}\n",
      "Cost at iteration {i}:{cost}\n",
      "Cost at iteration {i}:{cost}\n"
     ]
    },
    {
     "data": {
      "text/plain": [
       "<matplotlib.text.Text at 0x6942780>"
      ]
     },
     "execution_count": 32,
     "metadata": {},
     "output_type": "execute_result"
    },
    {
     "data": {
      "image/png": "[encoded data removed]",
      "text/plain": [
       "<matplotlib.figure.Figure at 0x67eab70>"
      ]
     },
     "metadata": {},
     "output_type": "display_data"
    }
   ],
   "source": [
    "lr = LinearRegression()\n",
    "learning_rate = 0.02\n",
    "n_iters = 700\n",
    "train_w, train_b, train_c = lr.fit(X_train, y_train, lr=learning_rate, n_iters=n_iters)\n",
    "fig = plt.figure(figsize=(8, 6))\n",
    "plt.plot(range(n_iters), train_c)\n",
    "plt.title(\"train cost\")\n",
    "plt.xlabel(\"n_iters\")\n",
    "plt.ylabel(\"cost\")"
   ]
  },
  {
   "cell_type": "markdown",
   "metadata": {},
   "source": [
    "接下来对测试集进行预测，我们先定义一个评估函数，来评估预测结果是否准确，这里使用MSE（均方误差函数）"
   ]
  },
  {
   "cell_type": "code",
   "execution_count": 33,
   "metadata": {
    "collapsed": true
   },
   "outputs": [],
   "source": [
    "def MSE(ypre, y):\n",
    "    return (1/len(y_pre)) * np.sum((y_pre - y)**2)"
   ]
  },
  {
   "cell_type": "code",
   "execution_count": 35,
   "metadata": {
    "collapsed": false
   },
   "outputs": [
    {
     "name": "stdout",
     "output_type": "stream",
     "text": [
      "1.36509117091\n"
     ]
    }
   ],
   "source": [
    "y_pre = lr.predict(X_test)\n",
    "test_c = MSE(y_pre, y_test)\n",
    "print(test_c)"
   ]
  },
  {
   "cell_type": "markdown",
   "metadata": {},
   "source": [
    "最后我们在图上画出拟合的线性模型"
   ]
  },
  {
   "cell_type": "code",
   "execution_count": 38,
   "metadata": {
    "collapsed": false
   },
   "outputs": [
    {
     "data": {
      "text/plain": [
       "[<matplotlib.lines.Line2D at 0x9f06f60>]"
      ]
     },
     "execution_count": 38,
     "metadata": {},
     "output_type": "execute_result"
    },
    {
     "data": {
      "image/png": "[encoded data removed]",
      "text/plain": [
       "<matplotlib.figure.Figure at 0x9f5f320>"
      ]
     },
     "metadata": {},
     "output_type": "display_data"
    }
   ],
   "source": [
    "fig = plt.figure(figsize=(8,6))\n",
    "plt.scatter(X_train, y_train)\n",
    "plt.plot(X_test, y_pre, c='r')"
   ]
  }
 ],
 "metadata": {
  "kernelspec": {
   "display_name": "Python [conda root]",
   "language": "python",
   "name": "conda-root-py"
  },
  "language_info": {
   "codemirror_mode": {
    "name": "ipython",
    "version": 3
   },
   "file_extension": ".py",
   "mimetype": "text/x-python",
   "name": "python",
   "nbconvert_exporter": "python",
   "pygments_lexer": "ipython3",
   "version": "3.5.2"
  }
 },
 "nbformat": 4,
 "nbformat_minor": 1
}
